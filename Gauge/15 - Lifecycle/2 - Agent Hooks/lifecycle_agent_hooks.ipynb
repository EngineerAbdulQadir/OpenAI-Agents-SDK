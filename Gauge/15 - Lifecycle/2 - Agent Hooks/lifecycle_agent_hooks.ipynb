{
  "cells": [
    {
      "cell_type": "code",
      "source": [
        "!pip install -Uq openai-agents"
      ],
      "metadata": {
        "id": "w0XpgoD83vnm",
        "colab": {
          "base_uri": "https://localhost:8080/"
        },
        "collapsed": true,
        "outputId": "21d31ecc-ebef-4aeb-ad75-5ae288661438"
      },
      "execution_count": 1,
      "outputs": [
        {
          "output_type": "stream",
          "name": "stdout",
          "text": [
            "\u001b[?25l   \u001b[90m━━━━━━━━━━━━━━━━━━━━━━━━━━━━━━━━━━━━━━━━\u001b[0m \u001b[32m0.0/121.9 kB\u001b[0m \u001b[31m?\u001b[0m eta \u001b[36m-:--:--\u001b[0m\r\u001b[2K   \u001b[90m━━━━━━━━━━━━━━━━━━━━━━━━━━━━━━━━━━━━━━━━\u001b[0m \u001b[32m121.9/121.9 kB\u001b[0m \u001b[31m6.2 MB/s\u001b[0m eta \u001b[36m0:00:00\u001b[0m\n",
            "\u001b[?25h\u001b[?25l   \u001b[90m━━━━━━━━━━━━━━━━━━━━━━━━━━━━━━━━━━━━━━━━\u001b[0m \u001b[32m0.0/129.3 kB\u001b[0m \u001b[31m?\u001b[0m eta \u001b[36m-:--:--\u001b[0m\r\u001b[2K   \u001b[90m━━━━━━━━━━━━━━━━━━━━━━━━━━━━━━━━━━━━━━━━\u001b[0m \u001b[32m129.3/129.3 kB\u001b[0m \u001b[31m4.8 MB/s\u001b[0m eta \u001b[36m0:00:00\u001b[0m\n",
            "\u001b[2K   \u001b[90m━━━━━━━━━━━━━━━━━━━━━━━━━━━━━━━━━━━━━━━━\u001b[0m \u001b[32m131.1/131.1 kB\u001b[0m \u001b[31m4.7 MB/s\u001b[0m eta \u001b[36m0:00:00\u001b[0m\n",
            "\u001b[2K   \u001b[90m━━━━━━━━━━━━━━━━━━━━━━━━━━━━━━━━━━━━━━━━\u001b[0m \u001b[32m44.4/44.4 kB\u001b[0m \u001b[31m2.5 MB/s\u001b[0m eta \u001b[36m0:00:00\u001b[0m\n",
            "\u001b[?25h"
          ]
        }
      ]
    },
    {
      "cell_type": "code",
      "execution_count": 2,
      "metadata": {
        "id": "C8YXyIpiZ9v4"
      },
      "outputs": [],
      "source": [
        "import nest_asyncio\n",
        "nest_asyncio.apply()"
      ]
    },
    {
      "cell_type": "code",
      "execution_count": 3,
      "metadata": {
        "id": "XnusaX_RWF22"
      },
      "outputs": [],
      "source": [
        "from agents import (\n",
        "    AsyncOpenAI,\n",
        "    OpenAIChatCompletionsModel,\n",
        ")"
      ]
    },
    {
      "cell_type": "code",
      "execution_count": 4,
      "metadata": {
        "id": "oPvcFwItoKqw"
      },
      "outputs": [],
      "source": [
        "from google.colab import userdata\n",
        "\n",
        "gemini_api_key = userdata.get(\"GEMINI_API_KEY\")\n",
        "\n",
        "external_client = AsyncOpenAI(\n",
        "    api_key=gemini_api_key,\n",
        "    base_url=\"https://generativelanguage.googleapis.com/v1beta/openai/\",\n",
        ")\n",
        "\n",
        "model = OpenAIChatCompletionsModel(\n",
        "    model=\"gemini-2.0-flash\",\n",
        "    openai_client=external_client\n",
        ")"
      ]
    },
    {
      "cell_type": "code",
      "execution_count": 5,
      "metadata": {
        "id": "y9LkW-F7nC3T"
      },
      "outputs": [],
      "source": [
        "from agents import set_default_openai_client, set_tracing_disabled\n",
        "set_default_openai_client(external_client)\n",
        "set_tracing_disabled(True)"
      ]
    },
    {
      "cell_type": "code",
      "execution_count": 6,
      "metadata": {
        "id": "xL1SE0WBzNfB"
      },
      "outputs": [],
      "source": [
        "import asyncio\n",
        "import random\n",
        "from typing import Any\n",
        "\n",
        "from pydantic import BaseModel\n",
        "\n",
        "from agents import Agent, RunContextWrapper, AgentHooks, Runner, Tool, function_tool"
      ]
    },
    {
      "cell_type": "markdown",
      "metadata": {
        "id": "ZF1dd25XzEBp"
      },
      "source": [
        "### Basic"
      ]
    },
    {
      "cell_type": "code",
      "execution_count": 7,
      "metadata": {
        "id": "gfScTeRmzQYS"
      },
      "outputs": [],
      "source": [
        "class TestAgentHooks(AgentHooks):\n",
        "    def __init__(self, ag_display_name):\n",
        "        self.event_counter = 0\n",
        "        self.ag_display_name = ag_display_name\n",
        "\n",
        "    async def on_start(self, context: RunContextWrapper, agent: Agent) -> None:\n",
        "        self.event_counter += 1\n",
        "        print(f\"### {self.ag_display_name} {self.event_counter}: Agent {agent.name} started. Usage: {context.usage}\")\n",
        "\n",
        "    async def on_end(self, context: RunContextWrapper, agent: Agent, output: Any) -> None:\n",
        "        self.event_counter += 1\n",
        "        print(f\"### {self.ag_display_name} {self.event_counter}: Agent {agent.name} ended. Usage: {context.usage}, Output: {output}\")"
      ]
    },
    {
      "cell_type": "code",
      "execution_count": 10,
      "metadata": {
        "colab": {
          "base_uri": "https://localhost:8080/"
        },
        "id": "CzedWWWrzfQD",
        "outputId": "1f6b74f0-f283-4d10-d88c-b30f2f5c6f93"
      },
      "outputs": [
        {
          "output_type": "stream",
          "name": "stdout",
          "text": [
            "### job_filter 1: Agent Job Application Filter Agent started. Usage: Usage(requests=0, input_tokens=0, input_tokens_details=InputTokensDetails(cached_tokens=0), output_tokens=0, output_tokens_details=OutputTokensDetails(reasoning_tokens=0), total_tokens=0)\n",
            "### job_filter 2: Agent Job Application Filter Agent ended. Usage: Usage(requests=1, input_tokens=81, input_tokens_details=InputTokensDetails(cached_tokens=0), output_tokens=145, output_tokens_details=OutputTokensDetails(reasoning_tokens=0), total_tokens=226), Output: This application is flagged for the following reasons:\n",
            "\n",
            "*   **Lack of Specificity:** The application doesn't mention the specific position being applied for.\n",
            "*   **Vague Experience:** The applicant states they've \"worked in multiple fields\" without providing details about their experience or relevance to AI or software engineering.\n",
            "*   **Unclear Qualifications:** There is no information about the applicant's skills or qualifications related to AI or software engineering.\n",
            "*   **Incomplete:** The application is very short and lacks the details expected in a job application.\n",
            "\n",
            "**Requires Human Review:** Yes. A human reviewer needs to assess if the applicant has any hidden potential or relevant experience that isn't explicitly stated.\n",
            "\n",
            "This application is flagged for the following reasons:\n",
            "\n",
            "*   **Lack of Specificity:** The application doesn't mention the specific position being applied for.\n",
            "*   **Vague Experience:** The applicant states they've \"worked in multiple fields\" without providing details about their experience or relevance to AI or software engineering.\n",
            "*   **Unclear Qualifications:** There is no information about the applicant's skills or qualifications related to AI or software engineering.\n",
            "*   **Incomplete:** The application is very short and lacks the details expected in a job application.\n",
            "\n",
            "**Requires Human Review:** Yes. A human reviewer needs to assess if the applicant has any hidden potential or relevant experience that isn't explicitly stated.\n",
            "\n"
          ]
        }
      ],
      "source": [
        "starting_agent = Agent(\n",
        "    name=\"Job Application Filter Agent\",\n",
        "    instructions=(\n",
        "        \"You are a job application filter agent. Your job is to review applications and flag any that \"\n",
        "        \"appear incomplete, lack clarity, or require human review. We only accept applications that show \"\n",
        "        \"clear experience in AI or software engineering.\"\n",
        "    ),\n",
        "    hooks=TestAgentHooks(ag_display_name=\"job_filter\"),\n",
        "    model=model\n",
        ")\n",
        "\n",
        "async def main():\n",
        "    result = await Runner.run(\n",
        "        starting_agent,\n",
        "        input=(\n",
        "            \"<application>\"\n",
        "            \"Hi, I'm Alex. I've worked in multiple fields and I'm interested in this position. \"\n",
        "            \"Please let me know what the next steps are.\"\n",
        "            \"</application>\"\n",
        "        )\n",
        "    )\n",
        "\n",
        "    print(result.final_output)\n",
        "\n",
        "asyncio.run(main())"
      ]
    },
    {
      "cell_type": "markdown",
      "metadata": {
        "id": "cM8n3d4GzGGz"
      },
      "source": [
        "### Advance"
      ]
    },
    {
      "cell_type": "code",
      "execution_count": 9,
      "metadata": {
        "id": "2XzWlsI2yue2"
      },
      "outputs": [],
      "source": [
        "class CustomAgentHooks(AgentHooks):\n",
        "    def __init__(self, display_name: str):\n",
        "        self.event_counter = 0\n",
        "        self.display_name = display_name\n",
        "\n",
        "    async def on_start(self, context: RunContextWrapper, agent: Agent) -> None:\n",
        "        self.event_counter += 1\n",
        "        print(f\"### ({self.display_name}) {self.event_counter}: Agent {agent.name} started\")\n",
        "\n",
        "    async def on_end(self, context: RunContextWrapper, agent: Agent, output: Any) -> None:\n",
        "        self.event_counter += 1\n",
        "        print(\n",
        "            f\"### ({self.display_name}) {self.event_counter}: Agent {agent.name} ended with output {output}\"\n",
        "        )\n",
        "\n",
        "    async def on_handoff(self, context: RunContextWrapper, agent: Agent, source: Agent) -> None:\n",
        "        self.event_counter += 1\n",
        "        print(\n",
        "            f\"### ({self.display_name}) {self.event_counter}: Agent {source.name} handed off to {agent.name}\"\n",
        "        )\n",
        "\n",
        "    async def on_tool_start(self, context: RunContextWrapper, agent: Agent, tool: Tool) -> None:\n",
        "        self.event_counter += 1\n",
        "        print(\n",
        "            f\"### ({self.display_name}) {self.event_counter}: Agent {agent.name} started tool {tool.name}\"\n",
        "        )\n",
        "\n",
        "    async def on_tool_end(\n",
        "        self, context: RunContextWrapper, agent: Agent, tool: Tool, result: str\n",
        "    ) -> None:\n",
        "        self.event_counter += 1\n",
        "        print(\n",
        "            f\"### ({self.display_name}) {self.event_counter}: Agent {agent.name} ended tool {tool.name} with result {result}\"\n",
        "        )"
      ]
    },
    {
      "cell_type": "code",
      "execution_count": 12,
      "metadata": {
        "colab": {
          "base_uri": "https://localhost:8080/"
        },
        "id": "S11ItAh-resv",
        "outputId": "75ad4e7c-063f-4caf-a369-3d83a755c7d7"
      },
      "outputs": [
        {
          "output_type": "stream",
          "name": "stdout",
          "text": [
            "Enter weight in kg: 68\n",
            "Enter height in meters: 12\n",
            "### (Health Risk Assessor) 1: Agent Health Risk Assessor Agent started\n",
            "### (Health Risk Assessor) 2: Agent Health Risk Assessor Agent started tool calculate_bmi\n",
            "### (Health Risk Assessor) 3: Agent Health Risk Assessor Agent ended tool calculate_bmi with result 0.47\n",
            "### (Health Risk Assessor) 4: Agent Health Risk Assessor Agent handed off to BMI Evaluator Agent\n",
            "### (BMI Evaluator) 1: Agent BMI Evaluator Agent started\n",
            "### (BMI Evaluator) 2: Agent BMI Evaluator Agent started tool assess_risk\n",
            "### (BMI Evaluator) 3: Agent BMI Evaluator Agent ended tool assess_risk with result Underweight – Consider gaining weight for optimal health.\n",
            "### (BMI Evaluator) 4: Agent BMI Evaluator Agent ended with output Underweight – Consider gaining weight for optimal health.\n",
            "\n"
          ]
        }
      ],
      "source": [
        "@function_tool\n",
        "def calculate_bmi(weight_kg: float, height_m: float) -> float:\n",
        "    \"\"\"Calculate BMI using weight and height.\"\"\"\n",
        "    return round(weight_kg / (height_m ** 2), 2)\n",
        "\n",
        "\n",
        "@function_tool\n",
        "def assess_risk(bmi: float) -> str:\n",
        "    \"\"\"Classify health risk based on BMI value.\"\"\"\n",
        "    if bmi < 18.5:\n",
        "        return \"Underweight – Consider gaining weight for optimal health.\"\n",
        "    elif 18.5 <= bmi < 25:\n",
        "        return \"Normal – Keep maintaining your current lifestyle.\"\n",
        "    elif 25 <= bmi < 30:\n",
        "        return \"Overweight – A balanced diet and regular exercise is recommended.\"\n",
        "    else:\n",
        "        return \"Obese – High risk of health problems. Consult a medical professional.\"\n",
        "\n",
        "\n",
        "class HealthAssessment(BaseModel):\n",
        "    bmi: float\n",
        "    risk: str\n",
        "\n",
        "\n",
        "bmi_agent = Agent(\n",
        "    name=\"BMI Evaluator Agent\",\n",
        "    instructions=\"Evaluate the BMI and return the corresponding health risk category.\",\n",
        "    tools=[assess_risk],\n",
        "    hooks=CustomAgentHooks(display_name=\"BMI Evaluator\"),\n",
        "    model=model\n",
        ")\n",
        "\n",
        "starting_agent = Agent(\n",
        "    name=\"Health Risk Assessor Agent\",\n",
        "    instructions=\"Calculate BMI based on input height and weight. Then hand off to BMI Evaluator Agent to assess health risk.\",\n",
        "    tools=[calculate_bmi],\n",
        "    handoffs=[bmi_agent],\n",
        "    hooks=CustomAgentHooks(display_name=\"Health Risk Assessor\"),\n",
        "    model=model\n",
        ")\n",
        "\n",
        "\n",
        "async def main() -> None:\n",
        "    weight = float(input(\"Enter weight in kg: \"))\n",
        "    height = float(input(\"Enter height in meters: \"))\n",
        "    await Runner.run(\n",
        "        starting_agent,\n",
        "        input=f\"My weight is {weight} kg and my height is {height} meters. Please assess my health risk.\",\n",
        "    )\n",
        "\n",
        "\n",
        "asyncio.run(main())"
      ]
    }
  ],
  "metadata": {
    "colab": {
      "provenance": []
    },
    "kernelspec": {
      "display_name": "Python 3",
      "name": "python3"
    },
    "language_info": {
      "name": "python"
    }
  },
  "nbformat": 4,
  "nbformat_minor": 0
}