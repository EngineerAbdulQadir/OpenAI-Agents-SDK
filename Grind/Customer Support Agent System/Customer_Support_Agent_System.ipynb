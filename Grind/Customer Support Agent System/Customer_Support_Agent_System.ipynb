{
  "nbformat": 4,
  "nbformat_minor": 0,
  "metadata": {
    "colab": {
      "provenance": []
    },
    "kernelspec": {
      "name": "python3",
      "display_name": "Python 3"
    },
    "language_info": {
      "name": "python"
    }
  },
  "cells": [
    {
      "cell_type": "code",
      "execution_count": 5,
      "metadata": {
        "id": "2G6UzgvZRBvA"
      },
      "outputs": [],
      "source": [
        "!pip install -q openai-agents"
      ]
    },
    {
      "cell_type": "code",
      "source": [
        "import nest_asyncio\n",
        "nest_asyncio.apply()"
      ],
      "metadata": {
        "id": "JxQQ8Qt5Rn_C"
      },
      "execution_count": 6,
      "outputs": []
    },
    {
      "cell_type": "code",
      "source": [
        "from google.colab import userdata\n",
        "GEMINI_API_KEY = userdata.get('GEMINI_API_KEY')"
      ],
      "metadata": {
        "id": "ZlRAJArVSIhG"
      },
      "execution_count": 7,
      "outputs": []
    },
    {
      "cell_type": "code",
      "source": [
        "import asyncio\n",
        "from agents import AsyncOpenAI , OpenAIChatCompletionsModel\n",
        "from agents.run import RunConfig\n",
        "\n",
        "\n",
        "external_client = AsyncOpenAI(\n",
        "    api_key=GEMINI_API_KEY,\n",
        "    base_url=\"https://generativelanguage.googleapis.com/v1beta/openai/\",\n",
        ")\n",
        "\n",
        "model = OpenAIChatCompletionsModel(\n",
        "    model='gemini-2.0-flash',\n",
        "    openai_client=external_client,\n",
        ")\n",
        "\n",
        "config = RunConfig(\n",
        "    model=model,\n",
        "    tracing_disabled=True,\n",
        ")"
      ],
      "metadata": {
        "id": "zPW9YKLrTXfH"
      },
      "execution_count": 8,
      "outputs": []
    },
    {
      "cell_type": "code",
      "source": [
        "from agents import Agent, Runner"
      ],
      "metadata": {
        "id": "dG1f0cwWbeA2"
      },
      "execution_count": 9,
      "outputs": []
    },
    {
      "cell_type": "code",
      "source": [
        "query_agent = Agent(\n",
        "    name=\"FreshFishInfo\",\n",
        "    instructions=\"\"\"\n",
        "You are the Fresh Fish information expert.\n",
        "Your job is to answer any customer questions about Fresh Fish.\n",
        "This includes:\n",
        "- Our fish menu (types, prices, availability)\n",
        "- Sourcing (where the fish comes from)\n",
        "- Freshness and storage\n",
        "- Our store locations and hours\n",
        "Answer in a friendly, helpful tone.\n",
        "\"\"\".strip(),\n",
        "    model=model,\n",
        "    handoff_description=\"Query Expert\"\n",
        ")\n",
        "\n",
        "order_agent = Agent(\n",
        "    name=\"FreshFishOrder\",\n",
        "    instructions=\"\"\"\n",
        "You are the Fresh Fish ordering assistant.\n",
        "Follow these steps:\n",
        "1. Ask what the customer wants to order.\n",
        "2. Once they reply, confirm the order by saying: “Got it—[order]. Is that correct?”\n",
        "3. If they say yes, respond: “Your order has been placed: [order]”.\n",
        "4. If they say no, ask them to re-enter the order.\n",
        "Stay polite, clear, and helpful.\n",
        "\"\"\".strip(),\n",
        "    model=model,\n",
        "    handoff_description=\"Order Expert\"\n",
        ")\n",
        "\n",
        "triage_agent = Agent(\n",
        "    name=\"FreshFishTriage\",\n",
        "    instructions=\"\"\"\n",
        "You are the Fresh Fish triage agent.\n",
        "Your job is to classify the user's message into one of three categories:\n",
        "\n",
        "- GREET → If the user says hello, hi, hey, etc.\n",
        "- QUERY → If the user is asking a question about the company, fish, or menu.\n",
        "- ORDER → If the user is placing or changing an order.\n",
        "\n",
        "Respond with only one of these exact words: GREET, QUERY, or ORDER.\n",
        "Never reply with anything else.\n",
        "\"\"\".strip(),\n",
        "    model=model,\n",
        "    handoffs=[query_agent, order_agent]\n",
        ")\n"
      ],
      "metadata": {
        "id": "JYHp6Gv4VCp1"
      },
      "execution_count": 17,
      "outputs": []
    },
    {
      "cell_type": "code",
      "source": [
        "from agents import enable_verbose_stdout_logging\n",
        "enable_verbose_stdout_logging()"
      ],
      "metadata": {
        "id": "4YJQP2m0d3Te"
      },
      "execution_count": null,
      "outputs": []
    },
    {
      "cell_type": "code",
      "source": [
        "async def main():\n",
        "\n",
        "    print(\"Fresh Fish Pakistan\")\n",
        "\n",
        "    while True:\n",
        "        user = input(\"You: \").strip()\n",
        "\n",
        "        if user.lower() in (\"exit\", \"quit\"):\n",
        "            print(\"Goodbye!\")\n",
        "            break\n",
        "\n",
        "        triage = await Runner.run(triage_agent, user, run_config=config)\n",
        "\n",
        "        tag = triage.final_output.strip().upper()\n",
        "\n",
        "        if tag == \"GREET\":\n",
        "            print(\"Bot: Welcome to Fresh Fish! How can I help you today?\")\n",
        "        elif tag == \"QUERY\":\n",
        "            resp = await Runner.run(query_agent, user, run_config=config)\n",
        "            print(\"Bot:\", resp.final_output)\n",
        "        elif tag == \"ORDER\":\n",
        "            details = input(\"Bot: What would you like to order?\\nYou: \").strip()\n",
        "            resp = await Runner.run(order_agent, details, run_config=config)\n",
        "            print(\"Bot:\", resp.final_output)\n",
        "        else:\n",
        "            print(\"Bot: Sorry, can you rephrase?\")\n",
        "\n",
        "if __name__ == \"__main__\":\n",
        "    asyncio.run(main())\n"
      ],
      "metadata": {
        "colab": {
          "base_uri": "https://localhost:8080/"
        },
        "id": "YXU0X4uNdTp-",
        "outputId": "3ca5d417-fee7-4af0-ee53-eb75febe7389"
      },
      "execution_count": 18,
      "outputs": [
        {
          "output_type": "stream",
          "name": "stdout",
          "text": [
            "Fresh Fish Pakistan\n",
            "You: Hello\n",
            "Bot: Welcome to Fresh Fish! How can I help you today?\n",
            "You: exit\n",
            "Goodbye!\n"
          ]
        }
      ]
    }
  ]
}