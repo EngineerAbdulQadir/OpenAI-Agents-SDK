{
  "cells": [
    {
      "cell_type": "code",
      "execution_count": 1,
      "metadata": {
        "id": "e8McRXCm_k7J"
      },
      "outputs": [],
      "source": [
        "from dataclasses import dataclass"
      ]
    },
    {
      "cell_type": "code",
      "execution_count": 6,
      "metadata": {
        "id": "JcE8Z-9P_wDR"
      },
      "outputs": [],
      "source": [
        "from typing import ClassVar\n",
        "@dataclass\n",
        "class American:\n",
        "  name: str # Instance\n",
        "  age: int # Instance\n",
        "  weight: float # Instance\n",
        "  liked_food: str # Instance\n",
        "\n",
        "  normal_body_temperature: ClassVar[float] = 98.6 # Static\n",
        "  national_language: ClassVar[str] = \"English\" # Static\n",
        "  national_food: ClassVar[str] = \"Hamburger\" # Static\n",
        "\n",
        "\n",
        "\n",
        "  def speak(self):\n",
        "    return f\"{self.name} is speaking... {American.national_language}\"\n",
        "\n",
        "  def eat(self):\n",
        "    return f\"{self.name} is eating...\"\n",
        "\n",
        "  @staticmethod\n",
        "  def country_language():\n",
        "    return American.national_language"
      ]
    },
    {
      "cell_type": "code",
      "execution_count": null,
      "metadata": {
        "colab": {
          "base_uri": "https://localhost:8080/"
        },
        "id": "DK7BOMiTCbxG",
        "outputId": "1f8135af-9929-4a5b-c04d-cd332b75b637"
      },
      "outputs": [],
      "source": [
        "john = American(name=\"John\", age=25, weight=70, liked_food=\"Pizza\")\n",
        "print(john.speak())\n",
        "print(john.eat())"
      ]
    },
    {
      "cell_type": "code",
      "execution_count": null,
      "metadata": {
        "colab": {
          "base_uri": "https://localhost:8080/",
          "height": 35
        },
        "id": "aUvTYiiQDaMA",
        "outputId": "e45060d2-b6ee-409b-d663-87bf3e0e5efe"
      },
      "outputs": [],
      "source": [
        "American.country_language()"
      ]
    },
    {
      "cell_type": "code",
      "execution_count": null,
      "metadata": {
        "colab": {
          "base_uri": "https://localhost:8080/"
        },
        "id": "K6r87ZLDDd3Q",
        "outputId": "ecbe40f4-ed9d-476a-b642-156b3818bf88"
      },
      "outputs": [],
      "source": [
        "print(john)\n",
        "print(john.name)\n",
        "print(john.age)\n",
        "print(john.weight)\n",
        "print(American.national_language)"
      ]
    }
  ],
  "metadata": {
    "colab": {
      "provenance": []
    },
    "kernelspec": {
      "display_name": "Python 3",
      "name": "python3"
    },
    "language_info": {
      "name": "python"
    }
  },
  "nbformat": 4,
  "nbformat_minor": 0
}
