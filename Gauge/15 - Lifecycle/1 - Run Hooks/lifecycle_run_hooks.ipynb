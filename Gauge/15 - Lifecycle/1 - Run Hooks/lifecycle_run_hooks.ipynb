{
  "cells": [
    {
      "cell_type": "code",
      "execution_count": null,
      "metadata": {
        "id": "3QdkOviEB2ay"
      },
      "outputs": [],
      "source": [
        "!pip install -Uq openai-agents"
      ]
    },
    {
      "cell_type": "code",
      "execution_count": 2,
      "metadata": {
        "id": "C8YXyIpiZ9v4"
      },
      "outputs": [],
      "source": [
        "import nest_asyncio\n",
        "nest_asyncio.apply()"
      ]
    },
    {
      "cell_type": "code",
      "execution_count": 4,
      "metadata": {
        "id": "XnusaX_RWF22"
      },
      "outputs": [],
      "source": [
        "from agents import (\n",
        "    AsyncOpenAI,\n",
        "    OpenAIChatCompletionsModel,\n",
        ")"
      ]
    },
    {
      "cell_type": "code",
      "execution_count": 5,
      "metadata": {
        "id": "oPvcFwItoKqw"
      },
      "outputs": [],
      "source": [
        "from google.colab import userdata\n",
        "\n",
        "gemini_api_key = userdata.get(\"GEMINI_API_KEY\")\n",
        "\n",
        "external_client = AsyncOpenAI(\n",
        "    api_key=gemini_api_key,\n",
        "    base_url=\"https://generativelanguage.googleapis.com/v1beta/openai/\",\n",
        ")\n",
        "\n",
        "model = OpenAIChatCompletionsModel(\n",
        "    model=\"gemini-2.0-flash\",\n",
        "    openai_client=external_client\n",
        ")"
      ]
    },
    {
      "cell_type": "code",
      "execution_count": 6,
      "metadata": {
        "id": "y9LkW-F7nC3T"
      },
      "outputs": [],
      "source": [
        "from agents import set_default_openai_client, set_tracing_disabled\n",
        "\n",
        "set_default_openai_client(external_client)\n",
        "set_tracing_disabled(True)"
      ]
    },
    {
      "cell_type": "code",
      "execution_count": 8,
      "metadata": {
        "id": "xL1SE0WBzNfB"
      },
      "outputs": [],
      "source": [
        "import asyncio\n",
        "import random\n",
        "from typing import Any\n",
        "\n",
        "from agents import Agent, RunContextWrapper, RunHooks, Runner, Tool, Usage, function_tool"
      ]
    },
    {
      "cell_type": "markdown",
      "source": [
        "### Basic"
      ],
      "metadata": {
        "id": "B91TvB1w09nv"
      }
    },
    {
      "cell_type": "code",
      "execution_count": 9,
      "metadata": {
        "id": "gfScTeRmzQYS"
      },
      "outputs": [],
      "source": [
        "class TestHooks(RunHooks):\n",
        "    def __init__(self):\n",
        "        self.event_counter = 0\n",
        "        self.name = \"TestHooks\"\n",
        "\n",
        "    async def on_agent_start(self, context: RunContextWrapper, agent: Agent) -> None:\n",
        "        self.event_counter += 1\n",
        "        print(f\"### {self.name} {self.event_counter}: Agent {agent.name} started. Usage: {context.usage}\")\n",
        "\n",
        "    async def on_agent_end(self, context: RunContextWrapper, agent: Agent, output: Any) -> None:\n",
        "        self.event_counter += 1\n",
        "        print(f\"### {self.name} {self.event_counter}: Agent {agent.name} ended. Usage: {context.usage}, Output: {output}\")"
      ]
    },
    {
      "cell_type": "code",
      "execution_count": 13,
      "metadata": {
        "colab": {
          "base_uri": "https://localhost:8080/"
        },
        "id": "CzedWWWrzfQD",
        "outputId": "ac7ee44f-6f5e-44fb-c1c3-581413965796",
        "collapsed": true
      },
      "outputs": [
        {
          "output_type": "stream",
          "name": "stdout",
          "text": [
            "### TestHooks 1: Agent Email Fraud Detection Agent started. Usage: Usage(requests=0, input_tokens=0, input_tokens_details=InputTokensDetails(cached_tokens=0), output_tokens=0, output_tokens_details=OutputTokensDetails(reasoning_tokens=0), total_tokens=0)\n",
            "### TestHooks 2: Agent Email Fraud Detection Agent ended. Usage: Usage(requests=1, input_tokens=52, input_tokens_details=InputTokensDetails(cached_tokens=0), output_tokens=309, output_tokens_details=OutputTokensDetails(reasoning_tokens=0), total_tokens=361), Output: This email is highly suspicious and likely a phishing attempt. Here's why:\n",
            "\n",
            "*   **Generic Greeting:** The email starts with \"Dear user,\" which is a common tactic in phishing emails. Legitimate banks usually address you by your name.\n",
            "*   **Sense of Urgency:** The message creates a sense of urgency by claiming the account has been \"compromised.\" This is intended to scare the recipient into acting quickly without thinking.\n",
            "*   **Suspicious Link:** The instruction to \"click here to verify your details\" is a major red flag. This link likely leads to a fake website designed to steal personal information.\n",
            "*   **Lack of Specificity:** The email doesn't mention which bank is being referred to. This is a common tactic used by scammers targeting a wide audience.\n",
            "*   **Unsolicited Request:** Banks typically don't ask you to verify your details through a link in an email. If there's a genuine security issue, they'll usually advise you to log in to your account directly through their official website or contact them by phone.\n",
            "\n",
            "**Verdict: HIGH PROBABILITY OF PHISHING**\n",
            "\n",
            "**Recommendation:**\n",
            "\n",
            "*   **DO NOT CLICK THE LINK.**\n",
            "*   **DO NOT PROVIDE ANY PERSONAL INFORMATION.**\n",
            "*   **Contact your bank directly through their official website or phone number** (found on your bank statement or the back of your credit card) to inquire about the email.\n",
            "*   **Mark the email as spam or junk** and delete it.\n",
            "\n",
            "This email is highly suspicious and likely a phishing attempt. Here's why:\n",
            "\n",
            "*   **Generic Greeting:** The email starts with \"Dear user,\" which is a common tactic in phishing emails. Legitimate banks usually address you by your name.\n",
            "*   **Sense of Urgency:** The message creates a sense of urgency by claiming the account has been \"compromised.\" This is intended to scare the recipient into acting quickly without thinking.\n",
            "*   **Suspicious Link:** The instruction to \"click here to verify your details\" is a major red flag. This link likely leads to a fake website designed to steal personal information.\n",
            "*   **Lack of Specificity:** The email doesn't mention which bank is being referred to. This is a common tactic used by scammers targeting a wide audience.\n",
            "*   **Unsolicited Request:** Banks typically don't ask you to verify your details through a link in an email. If there's a genuine security issue, they'll usually advise you to log in to your account directly through their official website or contact them by phone.\n",
            "\n",
            "**Verdict: HIGH PROBABILITY OF PHISHING**\n",
            "\n",
            "**Recommendation:**\n",
            "\n",
            "*   **DO NOT CLICK THE LINK.**\n",
            "*   **DO NOT PROVIDE ANY PERSONAL INFORMATION.**\n",
            "*   **Contact your bank directly through their official website or phone number** (found on your bank statement or the back of your credit card) to inquire about the email.\n",
            "*   **Mark the email as spam or junk** and delete it.\n",
            "\n"
          ]
        }
      ],
      "source": [
        "start_hook = TestHooks()\n",
        "\n",
        "starting_agent = Agent(\n",
        "    name=\"Email Fraud Detection Agent\",\n",
        "    instructions=(\n",
        "        \"You are an email fraud detection agent. Analyze incoming email content \"\n",
        "        \"and flag any messages that appear to be phishing, scams, or fraudulent financial activity.\"\n",
        "    ),\n",
        "    model=model\n",
        ")\n",
        "\n",
        "async def main():\n",
        "    result = await Runner.run(\n",
        "        starting_agent,\n",
        "        hooks=start_hook,\n",
        "        input=\"<email>Dear user, your bank account has been compromised. Please click here to verify your details.</email>\"\n",
        "    )\n",
        "\n",
        "    print(result.final_output)\n",
        "\n",
        "asyncio.run(main())"
      ]
    },
    {
      "cell_type": "markdown",
      "metadata": {
        "id": "cM8n3d4GzGGz"
      },
      "source": [
        "### Advance"
      ]
    },
    {
      "cell_type": "code",
      "execution_count": 18,
      "metadata": {
        "id": "2XzWlsI2yue2"
      },
      "outputs": [],
      "source": [
        "class ExampleHooks(RunHooks):\n",
        "    def __init__(self):\n",
        "       self.event_counter = 0\n",
        "\n",
        "    def _usage_to_str(self, usage: Usage) -> str:\n",
        "        return f\"{usage.requests} requests, {usage.input_tokens} input tokens, {usage.output_tokens} output tokens, {usage.total_tokens} total tokens\"\n",
        "\n",
        "    async def on_agent_start(self, context: RunContextWrapper, agent: Agent) -> None:\n",
        "        self.event_counter += 1\n",
        "        print(\n",
        "            f\"### {self.event_counter}: Agent {agent.name} started. Usage: {self._usage_to_str(context.usage)}\"\n",
        "        )\n",
        "\n",
        "    async def on_agent_end(self, context: RunContextWrapper, agent: Agent, output: Any) -> None:\n",
        "        self.event_counter += 1\n",
        "        print(\n",
        "            f\"### {self.event_counter}: Agent {agent.name} ended with output {output}. Usage: {self._usage_to_str(context.usage)}\"\n",
        "        )\n",
        "\n",
        "    async def on_tool_start(self, context: RunContextWrapper, agent: Agent, tool: Tool) -> None:\n",
        "        self.event_counter += 1\n",
        "        print(\n",
        "            f\"### {self.event_counter}: Tool {tool.name} started. Usage: {self._usage_to_str(context.usage)}\"\n",
        "        )\n",
        "\n",
        "    async def on_tool_end(\n",
        "        self, context: RunContextWrapper, agent: Agent, tool: Tool, result: str\n",
        "    ) -> None:\n",
        "        self.event_counter += 1\n",
        "        print(\n",
        "            f\"### {self.event_counter}: Tool {tool.name} ended with result {result}. Usage: {self._usage_to_str(context.usage)}\"\n",
        "        )\n",
        "\n",
        "    async def on_handoff(\n",
        "        self, context: RunContextWrapper, from_agent: Agent, to_agent: Agent\n",
        "    ) -> None:\n",
        "        self.event_counter += 1\n",
        "        print(\n",
        "            f\"### {self.event_counter}: Handoff from {from_agent.name} to {to_agent.name}. Usage: {self._usage_to_str(context.usage)}\"\n",
        "        )"
      ]
    },
    {
      "cell_type": "code",
      "execution_count": 21,
      "metadata": {
        "colab": {
          "base_uri": "https://localhost:8080/"
        },
        "id": "S11ItAh-resv",
        "outputId": "9021eafe-4882-49a6-a338-899a98aed59d"
      },
      "outputs": [
        {
          "output_type": "stream",
          "name": "stdout",
          "text": [
            "Enter the maximum temperature (°C) to simulate: 45\n",
            "### 1: Agent Weather Monitor Agent started. Usage: 0 requests, 0 input tokens, 0 output tokens, 0 total tokens\n",
            "### 2: Tool get_temperature started. Usage: 1 requests, 103 input tokens, 7 output tokens, 110 total tokens\n",
            "### 3: Tool get_temperature ended with result 9. Usage: 1 requests, 103 input tokens, 7 output tokens, 110 total tokens\n",
            "### 4: Agent Weather Monitor Agent ended with output The temperature is 9°C. No heat advisory needed.\n",
            ". Usage: 2 requests, 218 input tokens, 21 output tokens, 239 total tokens\n",
            "The temperature is 9°C. No heat advisory needed.\n",
            "\n"
          ]
        }
      ],
      "source": [
        "hooks = ExampleHooks()\n",
        "\n",
        "@function_tool(\"get_temperature\")\n",
        "def get_temperature(max_temp: int) -> int:\n",
        "    \"\"\"Simulate checking the current temperature (in Celsius).\"\"\"\n",
        "    return random.randint(0, max_temp)\n",
        "\n",
        "# def get_temperature(max: int) -> int:\n",
        "#     return max  # always return max to simulate edge case\n",
        "\n",
        "@function_tool(\"heat_advice\")\n",
        "def heat_advice(temp: int) -> str:\n",
        "    \"\"\"Provide health advice based on a high temperature.\"\"\"\n",
        "    return (\n",
        "        f\"It's {temp}°C. This is quite hot. Stay hydrated, avoid outdoor activities, \"\n",
        "        \"and wear light clothing.\"\n",
        "    )\n",
        "\n",
        "\n",
        "heat_agent = Agent(\n",
        "    name=\"Heat Advisory Agent\",\n",
        "    instructions=\"Provide advice on how to deal with hot weather conditions.\",\n",
        "    tools=[heat_advice],\n",
        "    model=model,\n",
        ")\n",
        "\n",
        "starting_agent = Agent(\n",
        "    name=\"Weather Monitor Agent\",\n",
        "    instructions=(\n",
        "        \"Generate a simulated temperature between 0 and a user-specified max. \"\n",
        "        \"If temperature > 30°C, hand off to the heat advisory agent. \"\n",
        "        \"Otherwise, return the temperature with a message: 'No heat advisory needed.'\"\n",
        "    ),\n",
        "    tools=[get_temperature],\n",
        "    handoffs=[heat_agent],\n",
        "    model=model,\n",
        ")\n",
        "\n",
        "\n",
        "async def main() -> None:\n",
        "    user_input = input(\"Enter the maximum temperature (°C) to simulate: \")\n",
        "    ans = await Runner.run(\n",
        "        starting_agent,\n",
        "        hooks=hooks,\n",
        "        input=f\"Simulate a temperature between 0 and {user_input}.\",\n",
        "    )\n",
        "\n",
        "    print(ans.final_output)\n",
        "\n",
        "asyncio.run(main())"
      ]
    }
  ],
  "metadata": {
    "colab": {
      "provenance": []
    },
    "kernelspec": {
      "display_name": "Python 3",
      "name": "python3"
    },
    "language_info": {
      "name": "python"
    }
  },
  "nbformat": 4,
  "nbformat_minor": 0
}