{
  "nbformat": 4,
  "nbformat_minor": 0,
  "metadata": {
    "colab": {
      "provenance": []
    },
    "kernelspec": {
      "name": "python3",
      "display_name": "Python 3"
    },
    "language_info": {
      "name": "python"
    }
  },
  "cells": [
    {
      "cell_type": "markdown",
      "source": [
        "## Libraries"
      ],
      "metadata": {
        "id": "eiJhjTGQKXgG"
      }
    },
    {
      "cell_type": "code",
      "execution_count": null,
      "metadata": {
        "colab": {
          "base_uri": "https://localhost:8080/"
        },
        "id": "jp6DMPpk5LZ_",
        "outputId": "6eb9d527-4a78-4f5f-eee1-681abef65ac9"
      },
      "outputs": [
        {
          "output_type": "stream",
          "name": "stdout",
          "text": [
            "\u001b[?25l   \u001b[90m━━━━━━━━━━━━━━━━━━━━━━━━━━━━━━━━━━━━━━━━\u001b[0m \u001b[32m0.0/117.2 kB\u001b[0m \u001b[31m?\u001b[0m eta \u001b[36m-:--:--\u001b[0m\r\u001b[2K   \u001b[90m━━━━━━━━━━━━━━━━━━━━━━━━━━━━━━━━━━━━━━━━\u001b[0m \u001b[32m117.2/117.2 kB\u001b[0m \u001b[31m4.3 MB/s\u001b[0m eta \u001b[36m0:00:00\u001b[0m\n",
            "\u001b[2K   \u001b[90m━━━━━━━━━━━━━━━━━━━━━━━━━━━━━━━━━━━━━━━━\u001b[0m \u001b[32m129.3/129.3 kB\u001b[0m \u001b[31m9.2 MB/s\u001b[0m eta \u001b[36m0:00:00\u001b[0m\n",
            "\u001b[2K   \u001b[90m━━━━━━━━━━━━━━━━━━━━━━━━━━━━━━━━━━━━━━━━\u001b[0m \u001b[32m7.6/7.6 MB\u001b[0m \u001b[31m61.6 MB/s\u001b[0m eta \u001b[36m0:00:00\u001b[0m\n",
            "\u001b[2K   \u001b[90m━━━━━━━━━━━━━━━━━━━━━━━━━━━━━━━━━━━━━━━━\u001b[0m \u001b[32m125.1/125.1 kB\u001b[0m \u001b[31m7.2 MB/s\u001b[0m eta \u001b[36m0:00:00\u001b[0m\n",
            "\u001b[2K   \u001b[90m━━━━━━━━━━━━━━━━━━━━━━━━━━━━━━━━━━━━━━━━\u001b[0m \u001b[32m44.4/44.4 kB\u001b[0m \u001b[31m2.5 MB/s\u001b[0m eta \u001b[36m0:00:00\u001b[0m\n",
            "\u001b[2K   \u001b[90m━━━━━━━━━━━━━━━━━━━━━━━━━━━━━━━━━━━━━━━━\u001b[0m \u001b[32m72.0/72.0 kB\u001b[0m \u001b[31m5.0 MB/s\u001b[0m eta \u001b[36m0:00:00\u001b[0m\n",
            "\u001b[2K   \u001b[90m━━━━━━━━━━━━━━━━━━━━━━━━━━━━━━━━━━━━━━━━\u001b[0m \u001b[32m62.5/62.5 kB\u001b[0m \u001b[31m3.8 MB/s\u001b[0m eta \u001b[36m0:00:00\u001b[0m\n",
            "\u001b[?25h"
          ]
        }
      ],
      "source": [
        "!pip install -Uq openai-agents \"openai-agents[litellm]\""
      ]
    },
    {
      "cell_type": "markdown",
      "source": [
        "## Setup & Imports"
      ],
      "metadata": {
        "id": "teCiwDX2KkML"
      }
    },
    {
      "cell_type": "code",
      "source": [
        "import asyncio\n",
        "from agents import (\n",
        "    Agent,\n",
        "    GuardrailFunctionOutput,\n",
        "    InputGuardrailTripwireTriggered,\n",
        "    OutputGuardrailTripwireTriggered,\n",
        "    RunContextWrapper,\n",
        "    Runner,\n",
        "    TResponseInputItem,\n",
        "    input_guardrail,\n",
        "    output_guardrail,\n",
        "    set_tracing_disabled\n",
        ")\n",
        "from agents.extensions.models.litellm_model import LitellmModel\n",
        "from pydantic import BaseModel\n",
        "\n",
        "import nest_asyncio\n",
        "nest_asyncio.apply()\n",
        "\n",
        "set_tracing_disabled(True)\n",
        "\n",
        "import os\n",
        "from google.colab import userdata\n",
        "os.environ['GEMINI_API_KEY'] = userdata.get('GEMINI_API_KEY')\n",
        "API_KEY = userdata.get('GEMINI_API_KEY')"
      ],
      "metadata": {
        "id": "zRexghBq6NDe"
      },
      "execution_count": null,
      "outputs": []
    },
    {
      "cell_type": "markdown",
      "source": [
        "## Agent"
      ],
      "metadata": {
        "id": "g7Peo9M9KR6P"
      }
    },
    {
      "cell_type": "code",
      "source": [
        "class MathHomeworkOutput(BaseModel):\n",
        "    is_math_homework: bool\n",
        "    reasoning: str\n",
        "    answer: str"
      ],
      "metadata": {
        "id": "C6kklVF289XZ"
      },
      "execution_count": null,
      "outputs": []
    },
    {
      "cell_type": "code",
      "source": [
        "guardrail_agent = Agent(\n",
        "    name=\"Guardrail check\",\n",
        "    instructions=\"Check if the input given by user is related to mathematics.\",\n",
        "    model=LitellmModel(model=\"gemini/gemini-2.0-flash\"),\n",
        "    output_type=MathHomeworkOutput,\n",
        ")"
      ],
      "metadata": {
        "id": "1LSzujoD6Q0F"
      },
      "execution_count": null,
      "outputs": []
    },
    {
      "cell_type": "code",
      "source": [
        "print(\"----------------------\\n\")\n",
        "\n",
        "result = Runner.run_sync(\n",
        "    starting_agent=guardrail_agent,\n",
        "    input=\"What is 2+2?\",\n",
        ")\n",
        "\n",
        "print(result.final_output.model_dump())\n",
        "\n",
        "print(\"\\n----------------------\\n\")\n",
        "\n",
        "result = Runner.run_sync(\n",
        "    starting_agent=guardrail_agent,\n",
        "    input=\"What is Indulge meaning?\",\n",
        ")\n",
        "\n",
        "print(result.final_output.model_dump())\n",
        "\n",
        "print(\"\\n----------------------\")"
      ],
      "metadata": {
        "colab": {
          "base_uri": "https://localhost:8080/"
        },
        "id": "J4_WU1ND7nXr",
        "outputId": "62e3c42a-f13a-402f-d7f7-c28f0f6b3bef"
      },
      "execution_count": null,
      "outputs": [
        {
          "output_type": "stream",
          "name": "stdout",
          "text": [
            "----------------------\n",
            "\n",
            "{'is_math_homework': True, 'reasoning': 'The question is a basic arithmetic addition problem.', 'answer': '4'}\n",
            "\n",
            "----------------------\n",
            "\n",
            "{'is_math_homework': False, 'reasoning': \"The query asks for the definition of the word 'Indulge'. This is a vocabulary question and has nothing to do with mathematics.\", 'answer': 'The query is not related to mathematics.'}\n",
            "\n",
            "----------------------\n"
          ]
        }
      ]
    },
    {
      "cell_type": "markdown",
      "source": [
        "## Input Guardrail"
      ],
      "metadata": {
        "id": "7PkRjETkKL-L"
      }
    },
    {
      "cell_type": "code",
      "source": [
        "@input_guardrail\n",
        "async def math_input_guardrail(ctx: RunContextWrapper[None], agent: Agent, input: str | list[TResponseInputItem]) -> GuardrailFunctionOutput:\n",
        "  result = await Runner.run(guardrail_agent, input, context=ctx.context)\n",
        "\n",
        "  print(f\"Is math related question: {result.final_output.is_math_homework}\")\n",
        "\n",
        "  return GuardrailFunctionOutput(\n",
        "      output_info=result.final_output,\n",
        "      tripwire_triggered=result.final_output.is_math_homework,\n",
        "  )\n",
        "\n",
        "assistant_agent = Agent(\n",
        "      name=\"Assistant\",\n",
        "      instructions=\"You are a helpful assistant.\",\n",
        "      model=LitellmModel(model=\"gemini/gemini-2.0-flash\"),\n",
        "      input_guardrails=[math_input_guardrail],\n",
        "  )\n"
      ],
      "metadata": {
        "id": "xBVvagaOCp9F"
      },
      "execution_count": null,
      "outputs": []
    },
    {
      "cell_type": "code",
      "source": [
        "print(\"----------------------\\n\")\n",
        "\n",
        "try:\n",
        "  result = Runner.run_sync(assistant_agent, \"What is 2+2?\")\n",
        "  print(result.final_output)\n",
        "except InputGuardrailTripwireTriggered as e:\n",
        "  print(f\"Error --> {e}\")\n",
        "\n",
        "print(\"\\n----------------------\\n\")\n",
        "\n",
        "try:\n",
        "  result = Runner.run_sync(assistant_agent, \"What is the meaning of Indulge?\")\n",
        "  print(result.final_output)\n",
        "except InputGuardrailTripwireTriggered as e:\n",
        "  print(f\"Error --> {e}\")\n",
        "\n",
        "print(\"\\n----------------------\")"
      ],
      "metadata": {
        "colab": {
          "base_uri": "https://localhost:8080/"
        },
        "id": "TgjkKccVJr5U",
        "outputId": "1bde1c78-4dbd-4017-e7f3-273185e88ccf"
      },
      "execution_count": null,
      "outputs": [
        {
          "output_type": "stream",
          "name": "stdout",
          "text": [
            "----------------------\n",
            "\n",
            "Is math related question: True\n",
            "Error --> Guardrail InputGuardrail triggered tripwire\n",
            "\n",
            "----------------------\n",
            "\n",
            "Is math related question: False\n",
            "The word \"indulge\" has a few related meanings, but they all center around allowing oneself or someone else to have something enjoyable, often to excess. Here's a breakdown:\n",
            "\n",
            "*   **To allow oneself to enjoy the pleasure of:** This is perhaps the most common meaning. It means to allow yourself to have something you want, even if it's not strictly necessary or even good for you. Examples: \"I indulged in a slice of chocolate cake,\" or \"She indulged in a long, hot bath.\"\n",
            "\n",
            "*   **To allow (someone) to have something desired:** This means to give someone else something they want, even if it's not strictly necessary. Examples: \"They indulged their children with expensive toys,\" or \"The teacher indulged the student's request to use a pen instead of a pencil.\"\n",
            "\n",
            "*   **To become involved in (an activity, typically one that is undesirable or regrettable):** This is often used to describe getting involved in something negative. Example: \"He indulged in gossip,\" or \"She indulged in self-pity.\"\n",
            "\n",
            "In summary, \"indulge\" generally implies a yielding to desires or whims, often with a slightly negative connotation of excess or unnecessary gratification.\n",
            "\n",
            "----------------------\n"
          ]
        }
      ]
    }
  ]
}