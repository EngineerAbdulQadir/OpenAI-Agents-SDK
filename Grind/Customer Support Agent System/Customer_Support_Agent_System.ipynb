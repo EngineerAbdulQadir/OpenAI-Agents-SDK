{
  "nbformat": 4,
  "nbformat_minor": 0,
  "metadata": {
    "colab": {
      "provenance": []
    },
    "kernelspec": {
      "name": "python3",
      "display_name": "Python 3"
    },
    "language_info": {
      "name": "python"
    }
  },
  "cells": [
    {
      "cell_type": "code",
      "execution_count": 9,
      "metadata": {
        "id": "2G6UzgvZRBvA"
      },
      "outputs": [],
      "source": [
        "!pip install -q openai-agents openai-agents[viz]"
      ]
    },
    {
      "cell_type": "code",
      "source": [
        "import nest_asyncio\n",
        "nest_asyncio.apply()"
      ],
      "metadata": {
        "id": "JxQQ8Qt5Rn_C"
      },
      "execution_count": 2,
      "outputs": []
    },
    {
      "cell_type": "code",
      "source": [
        "from google.colab import userdata\n",
        "GEMINI_API_KEY = userdata.get('GEMINI_API_KEY')"
      ],
      "metadata": {
        "id": "ZlRAJArVSIhG"
      },
      "execution_count": 3,
      "outputs": []
    },
    {
      "cell_type": "code",
      "source": [
        "import asyncio\n",
        "from agents import AsyncOpenAI , OpenAIChatCompletionsModel\n",
        "from agents.run import RunConfig\n",
        "\n",
        "\n",
        "external_client = AsyncOpenAI(\n",
        "    api_key=GEMINI_API_KEY,\n",
        "    base_url=\"https://generativelanguage.googleapis.com/v1beta/openai/\",\n",
        ")\n",
        "\n",
        "model = OpenAIChatCompletionsModel(\n",
        "    model='gemini-2.0-flash',\n",
        "    openai_client=external_client,\n",
        ")\n",
        "\n",
        "config = RunConfig(\n",
        "    model=model,\n",
        "    tracing_disabled=True,\n",
        ")"
      ],
      "metadata": {
        "id": "zPW9YKLrTXfH"
      },
      "execution_count": 4,
      "outputs": []
    },
    {
      "cell_type": "code",
      "source": [
        "from agents import Agent, Runner"
      ],
      "metadata": {
        "id": "dG1f0cwWbeA2"
      },
      "execution_count": 5,
      "outputs": []
    },
    {
      "cell_type": "code",
      "source": [
        "query_agent = Agent(\n",
        "    name=\"FreshFishInfo\",\n",
        "    instructions=\"\"\"\n",
        "You are the Fresh Fish information expert.\n",
        "Your job is to answer any customer questions about Fresh Fish.\n",
        "This includes:\n",
        "- Our fish menu (types, prices, availability)\n",
        "- Sourcing (where the fish comes from)\n",
        "- Freshness and storage\n",
        "- Our store locations and hours\n",
        "Answer in a friendly, helpful tone.\n",
        "\"\"\".strip(),\n",
        "    model=model,\n",
        "    handoff_description=\"Query Expert\"\n",
        ")\n",
        "\n",
        "order_agent = Agent(\n",
        "    name=\"FreshFishOrder\",\n",
        "    instructions=\"\"\"\n",
        "You are the Fresh Fish ordering assistant.\n",
        "Follow these steps:\n",
        "1. Ask what the customer wants to order.\n",
        "2. Once they reply, confirm the order by saying: “Got it—[order]. Is that correct?”\n",
        "3. If they say yes, respond: “Your order has been placed: [order]”.\n",
        "4. If they say no, ask them to re-enter the order.\n",
        "Stay polite, clear, and helpful.\n",
        "\"\"\".strip(),\n",
        "    model=model,\n",
        "    handoff_description=\"Order Expert\"\n",
        ")\n",
        "\n",
        "triage_agent = Agent(\n",
        "    name=\"FreshFishTriage\",\n",
        "    instructions=\"\"\"\n",
        "You are the Fresh Fish triage agent.\n",
        "Your job is to classify the user's message into one of three categories:\n",
        "\n",
        "- GREET → If the user says hello, hi, hey, etc.\n",
        "- QUERY → If the user is asking a question about the company, fish, or menu.\n",
        "- ORDER → If the user is placing or changing an order.\n",
        "\n",
        "Respond with only one of these exact words: GREET, QUERY, or ORDER.\n",
        "Never reply with anything else.\n",
        "\"\"\".strip(),\n",
        "    model=model,\n",
        "    handoffs=[query_agent, order_agent]\n",
        ")\n"
      ],
      "metadata": {
        "id": "JYHp6Gv4VCp1"
      },
      "execution_count": 7,
      "outputs": []
    },
    {
      "cell_type": "code",
      "source": [
        "from agents import enable_verbose_stdout_logging\n",
        "enable_verbose_stdout_logging()"
      ],
      "metadata": {
        "id": "4YJQP2m0d3Te"
      },
      "execution_count": null,
      "outputs": []
    },
    {
      "cell_type": "code",
      "source": [
        "async def main():\n",
        "\n",
        "    print(\"Fresh Fish Pakistan\")\n",
        "\n",
        "    while True:\n",
        "        user = input(\"You: \").strip()\n",
        "\n",
        "        if user.lower() in (\"exit\", \"quit\"):\n",
        "            print(\"Goodbye!\")\n",
        "            break\n",
        "\n",
        "        triage = await Runner.run(triage_agent, user, run_config=config)\n",
        "\n",
        "        tag = triage.final_output.strip().upper()\n",
        "\n",
        "        if tag == \"GREET\":\n",
        "            print(\"Bot: Welcome to Fresh Fish! How can I help you today?\")\n",
        "        elif tag == \"QUERY\":\n",
        "            resp = await Runner.run(query_agent, user, run_config=config)\n",
        "            print(\"Bot:\", resp.final_output)\n",
        "        elif tag == \"ORDER\":\n",
        "            details = input(\"Bot: What would you like to order?\\nYou: \").strip()\n",
        "            resp = await Runner.run(order_agent, details, run_config=config)\n",
        "            print(\"Bot:\", resp.final_output)\n",
        "        else:\n",
        "            print(\"Bot: Sorry, can you rephrase?\")\n",
        "\n",
        "if __name__ == \"__main__\":\n",
        "    asyncio.run(main())\n"
      ],
      "metadata": {
        "colab": {
          "base_uri": "https://localhost:8080/"
        },
        "id": "YXU0X4uNdTp-",
        "outputId": "284232c9-4805-467f-c21e-811ba6de3627"
      },
      "execution_count": 8,
      "outputs": [
        {
          "output_type": "stream",
          "name": "stdout",
          "text": [
            "Fresh Fish Pakistan\n",
            "You: Hello\n",
            "Bot: Welcome to Fresh Fish! How can I help you today?\n",
            "You: Do you have fresh fish availbale?\n",
            "Bot: Yes, we do! We pride ourselves on having a wide selection of fresh fish daily.\n",
            "\n",
            "To best answer your question, could you tell me:\n",
            "\n",
            "*   **What type of fish are you looking for?** This will help me check our current stock and availability.\n",
            "*   **Which location are you planning to visit?** Our selection can vary slightly between stores.\n",
            "\n",
            "In general, we usually have salmon, tuna, cod, and halibut available. But it really depends on the day's catch! I am happy to check for you!\n",
            "\n",
            "You: Can you  me briefly about tuna fish?\n",
            "Bot: Of course! Here's some quick information about tuna at Fresh Fish:\n",
            "\n",
            "**Types:** We usually carry a few different kinds of tuna, like Yellowfin, Albacore, and sometimes Bigeye, depending on what's in season and available. Each has a slightly different flavor and texture.\n",
            "\n",
            "**Flavor:** Generally, tuna has a rich, savory flavor, with a firm texture. Yellowfin is a bit milder, while Albacore is known for its lighter color and delicate taste.\n",
            "\n",
            "**Sourcing:** We pride ourselves on sourcing our tuna from reputable fisheries that practice sustainable fishing methods. We can tell you exactly where a specific cut of tuna came from when you visit our store!\n",
            "\n",
            "**Freshness:** Tuna is best enjoyed as fresh as possible. We get deliveries daily to ensure top quality. Look for vibrant color and a fresh, sea-like smell when selecting your tuna.\n",
            "\n",
            "**Uses:** Tuna is incredibly versatile! It's delicious grilled, pan-seared, used in sushi and sashimi, or even in salads and sandwiches.\n",
            "\n",
            "Do you have any other specific questions about our tuna, or would you like to know what types we currently have in stock?\n",
            "\n",
            "You: Can you take my order?\n",
            "Bot: What would you like to order?\n",
            "You: I would like to order 1 kg tuna and 1 kg salmon fish.\n",
            "Bot: Got it—1 kg tuna and 1 kg salmon fish. Is that correct?\n",
            "\n",
            "You: Yes\n",
            "Bot: Okay! How can I help you with Fresh Fish today? Do you have any questions about our menu, sourcing, freshness, locations, or anything else? Just let me know what's on your mind!\n",
            "\n",
            "You: exit\n",
            "Goodbye!\n"
          ]
        }
      ]
    },
    {
      "cell_type": "code",
      "source": [
        "from agents.extensions.visualization import draw_graph\n",
        "\n",
        "draw_graph(triage_agent)"
      ],
      "metadata": {
        "colab": {
          "base_uri": "https://localhost:8080/",
          "height": 417
        },
        "id": "Xnslh5Skin9R",
        "outputId": "5d436cc5-90ab-4ff1-ecc4-7496a0b9d2d9"
      },
      "execution_count": 10,
      "outputs": [
        {
          "output_type": "execute_result",
          "data": {
            "image/svg+xml": "<?xml version=\"1.0\" encoding=\"UTF-8\" standalone=\"no\"?>\n<!DOCTYPE svg PUBLIC \"-//W3C//DTD SVG 1.1//EN\"\n \"http://www.w3.org/Graphics/SVG/1.1/DTD/svg11.dtd\">\n<!-- Generated by graphviz version 2.43.0 (0)\n -->\n<!-- Title: G Pages: 1 -->\n<svg width=\"246pt\" height=\"297pt\"\n viewBox=\"0.00 0.00 246.00 297.05\" xmlns=\"http://www.w3.org/2000/svg\" xmlns:xlink=\"http://www.w3.org/1999/xlink\">\n<g id=\"graph0\" class=\"graph\" transform=\"scale(1 1) rotate(0) translate(4 293.05)\">\n<title>G</title>\n<polygon fill=\"white\" stroke=\"transparent\" points=\"-4,4 -4,-293.05 242,-293.05 242,4 -4,4\"/>\n<!-- __start__ -->\n<g id=\"node1\" class=\"node\">\n<title>__start__</title>\n<ellipse fill=\"lightblue\" stroke=\"black\" cx=\"118\" cy=\"-272.79\" rx=\"51.74\" ry=\"16.03\"/>\n<text text-anchor=\"middle\" x=\"118\" y=\"-269.09\" font-family=\"Arial\" font-size=\"14.00\">__start__</text>\n</g>\n<!-- FreshFishTriage -->\n<g id=\"node3\" class=\"node\">\n<title>FreshFishTriage</title>\n<polygon fill=\"lightyellow\" stroke=\"black\" points=\"175.5,-220.53 60.5,-220.53 60.5,-162.53 175.5,-162.53 175.5,-220.53\"/>\n<text text-anchor=\"middle\" x=\"118\" y=\"-187.83\" font-family=\"Arial\" font-size=\"14.00\">FreshFishTriage</text>\n</g>\n<!-- __start__&#45;&gt;FreshFishTriage -->\n<g id=\"edge1\" class=\"edge\">\n<title>__start__&#45;&gt;FreshFishTriage</title>\n<path fill=\"none\" stroke=\"black\" stroke-width=\"1.5\" d=\"M118,-256.51C118,-249.12 118,-239.89 118,-230.76\"/>\n<polygon fill=\"black\" stroke=\"black\" stroke-width=\"1.5\" points=\"121.5,-230.6 118,-220.6 114.5,-230.6 121.5,-230.6\"/>\n</g>\n<!-- __end__ -->\n<g id=\"node2\" class=\"node\">\n<title>__end__</title>\n<ellipse fill=\"lightblue\" stroke=\"black\" cx=\"118\" cy=\"-16.26\" rx=\"48.58\" ry=\"16.03\"/>\n<text text-anchor=\"middle\" x=\"118\" y=\"-12.56\" font-family=\"Arial\" font-size=\"14.00\">__end__</text>\n</g>\n<!-- FreshFishInfo -->\n<g id=\"node4\" class=\"node\">\n<title>FreshFishInfo</title>\n<polygon fill=\"lightyellow\" stroke=\"black\" points=\"108,-126.53 0,-126.53 0,-68.53 108,-68.53 108,-126.53\"/>\n<text text-anchor=\"middle\" x=\"54\" y=\"-93.83\" font-family=\"Arial\" font-size=\"14.00\">FreshFishInfo</text>\n</g>\n<!-- FreshFishTriage&#45;&gt;FreshFishInfo -->\n<g id=\"edge2\" class=\"edge\">\n<title>FreshFishTriage&#45;&gt;FreshFishInfo</title>\n<path fill=\"none\" stroke=\"black\" stroke-width=\"1.5\" d=\"M98.45,-162.42C92.49,-153.85 85.84,-144.3 79.55,-135.25\"/>\n<polygon fill=\"black\" stroke=\"black\" stroke-width=\"1.5\" points=\"82.23,-132.99 73.65,-126.77 76.49,-136.98 82.23,-132.99\"/>\n</g>\n<!-- FreshFishOrder -->\n<g id=\"node5\" class=\"node\">\n<title>FreshFishOrder</title>\n<polygon fill=\"lightyellow\" stroke=\"black\" points=\"238,-126.53 126,-126.53 126,-68.53 238,-68.53 238,-126.53\"/>\n<text text-anchor=\"middle\" x=\"182\" y=\"-93.83\" font-family=\"Arial\" font-size=\"14.00\">FreshFishOrder</text>\n</g>\n<!-- FreshFishTriage&#45;&gt;FreshFishOrder -->\n<g id=\"edge4\" class=\"edge\">\n<title>FreshFishTriage&#45;&gt;FreshFishOrder</title>\n<path fill=\"none\" stroke=\"black\" stroke-width=\"1.5\" d=\"M137.55,-162.42C143.51,-153.85 150.16,-144.3 156.45,-135.25\"/>\n<polygon fill=\"black\" stroke=\"black\" stroke-width=\"1.5\" points=\"159.51,-136.98 162.35,-126.77 153.77,-132.99 159.51,-136.98\"/>\n</g>\n<!-- FreshFishInfo&#45;&gt;__end__ -->\n<g id=\"edge3\" class=\"edge\">\n<title>FreshFishInfo&#45;&gt;__end__</title>\n<path fill=\"none\" stroke=\"black\" stroke-width=\"1.5\" d=\"M76.74,-68.36C84.15,-59.19 92.28,-49.12 99.35,-40.36\"/>\n<polygon fill=\"black\" stroke=\"black\" stroke-width=\"1.5\" points=\"102.19,-42.42 105.75,-32.44 96.74,-38.02 102.19,-42.42\"/>\n</g>\n<!-- FreshFishOrder&#45;&gt;__end__ -->\n<g id=\"edge5\" class=\"edge\">\n<title>FreshFishOrder&#45;&gt;__end__</title>\n<path fill=\"none\" stroke=\"black\" stroke-width=\"1.5\" d=\"M159.26,-68.36C151.85,-59.19 143.72,-49.12 136.65,-40.36\"/>\n<polygon fill=\"black\" stroke=\"black\" stroke-width=\"1.5\" points=\"139.26,-38.02 130.25,-32.44 133.81,-42.42 139.26,-38.02\"/>\n</g>\n</g>\n</svg>\n",
            "text/plain": [
              "<graphviz.sources.Source at 0x7ab8011a0c10>"
            ]
          },
          "metadata": {},
          "execution_count": 10
        }
      ]
    }
  ]
}