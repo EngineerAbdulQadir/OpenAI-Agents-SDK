{
  "nbformat": 4,
  "nbformat_minor": 0,
  "metadata": {
    "colab": {
      "provenance": []
    },
    "kernelspec": {
      "name": "python3",
      "display_name": "Python 3"
    },
    "language_info": {
      "name": "python"
    }
  },
  "cells": [
    {
      "cell_type": "code",
      "execution_count": 1,
      "metadata": {
        "id": "e8McRXCm_k7J"
      },
      "outputs": [],
      "source": [
        "from dataclasses import dataclass"
      ]
    },
    {
      "cell_type": "code",
      "source": [
        "from typing import ClassVar\n",
        "@dataclass\n",
        "class American:\n",
        "  name: str\n",
        "  age: int\n",
        "  weight: float\n",
        "  language: ClassVar[str] = \"English\"\n",
        "\n",
        "  def speak(self):\n",
        "    return f\"{self.name} is speaking... {American.language}\"\n",
        "\n",
        "  def eat(self):\n",
        "    return f\"{self.name} is eating...\"\n",
        "\n",
        "  @staticmethod\n",
        "  def country_language():\n",
        "    return American.language"
      ],
      "metadata": {
        "id": "JcE8Z-9P_wDR"
      },
      "execution_count": 6,
      "outputs": []
    },
    {
      "cell_type": "code",
      "source": [
        "john = American(name=\"John\", age=25, weight=70)\n",
        "print(john.speak())\n",
        "print(john.eat())"
      ],
      "metadata": {
        "colab": {
          "base_uri": "https://localhost:8080/"
        },
        "id": "DK7BOMiTCbxG",
        "outputId": "1f8135af-9929-4a5b-c04d-cd332b75b637"
      },
      "execution_count": 10,
      "outputs": [
        {
          "output_type": "stream",
          "name": "stdout",
          "text": [
            "John is speaking... English\n",
            "John is eating...\n"
          ]
        }
      ]
    },
    {
      "cell_type": "code",
      "source": [
        "American.country_language()"
      ],
      "metadata": {
        "colab": {
          "base_uri": "https://localhost:8080/",
          "height": 35
        },
        "id": "aUvTYiiQDaMA",
        "outputId": "e45060d2-b6ee-409b-d663-87bf3e0e5efe"
      },
      "execution_count": 12,
      "outputs": [
        {
          "output_type": "execute_result",
          "data": {
            "text/plain": [
              "'English'"
            ],
            "application/vnd.google.colaboratory.intrinsic+json": {
              "type": "string"
            }
          },
          "metadata": {},
          "execution_count": 12
        }
      ]
    },
    {
      "cell_type": "code",
      "source": [
        "print(john.name)\n",
        "print(john.age)\n",
        "print(john.weight)\n",
        "print(American.language)"
      ],
      "metadata": {
        "colab": {
          "base_uri": "https://localhost:8080/"
        },
        "id": "K6r87ZLDDd3Q",
        "outputId": "ecbe40f4-ed9d-476a-b642-156b3818bf88"
      },
      "execution_count": 15,
      "outputs": [
        {
          "output_type": "stream",
          "name": "stdout",
          "text": [
            "John\n",
            "25\n",
            "70\n",
            "English\n"
          ]
        }
      ]
    }
  ]
}